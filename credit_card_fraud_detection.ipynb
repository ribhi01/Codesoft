{
  "metadata": {
    "kernelspec": {
      "name": "python",
      "display_name": "Python (Pyodide)",
      "language": "python"
    },
    "language_info": {
      "codemirror_mode": {
        "name": "python",
        "version": 3
      },
      "file_extension": ".py",
      "mimetype": "text/x-python",
      "name": "python",
      "nbconvert_exporter": "python",
      "pygments_lexer": "ipython3",
      "version": "3.8"
    }
  },
  "nbformat_minor": 5,
  "nbformat": 4,
  "cells": [
    {
      "cell_type": "code",
      "source": "#Packages related to general operating system & warnings\nimport sys\n!pip install termcolor\nimport os \nimport warnings\nwarnings.filterwarnings('ignore')\n#Packages related to data importing, manipulation, exploratory data #analysis, data understanding\nimport numpy as np\nimport pandas as pd\nfrom pandas import Series, DataFrame\nfrom termcolor import colored as cl # text customization\n#Packages related to data visualizaiton\nimport seaborn as sns\nimport matplotlib.pyplot as plt\n%matplotlib inline\n#Setting plot sizes and type of plot\nplt.rc(\"font\", size=14)\nplt.rcParams['axes.grid'] = True\nplt.figure(figsize=(6,3))\nplt.gray()\nfrom matplotlib.backends.backend_pdf import PdfPages\nfrom sklearn.model_selection import train_test_split, GridSearchCV\nfrom sklearn import metrics\nfrom sklearn.impute import MissingIndicator, SimpleImputer\nfrom sklearn.preprocessing import  PolynomialFeatures, KBinsDiscretizer, FunctionTransformer\nfrom sklearn.preprocessing import StandardScaler, MinMaxScaler, MaxAbsScaler\nfrom sklearn.preprocessing import LabelEncoder, OneHotEncoder, LabelBinarizer, OrdinalEncoder\nimport statsmodels.formula.api as smf\nimport statsmodels.tsa as tsa\n\nfrom sklearn.linear_model import LogisticRegression, LinearRegression, ElasticNet, Lasso, Ridge\nfrom sklearn.neighbors import KNeighborsClassifier, KNeighborsRegressor\n\nfrom sklearn.ensemble import BaggingClassifier, BaggingRegressor,RandomForestClassifier,RandomForestRegressor\nfrom sklearn.ensemble import GradientBoostingClassifier,GradientBoostingRegressor, AdaBoostClassifier, AdaBoostRegressor \nfrom sklearn.svm import LinearSVC, LinearSVR, SVC, SVR\n\nfrom sklearn.metrics import f1_score\nfrom sklearn.metrics import accuracy_score\nfrom sklearn.metrics import confusion_matrix",
      "metadata": {},
      "execution_count": null,
      "outputs": [],
      "id": "c899ac8f-6a6c-48f9-b41b-c39e8d8e47d0"
    },
    {
      "cell_type": "code",
      "source": "creditcard =pd.read_csv('C:\\\\Users\\\\ribhi01\\\\Downloads\\\\creditcard.csv')",
      "metadata": {},
      "execution_count": 4,
      "outputs": [],
      "id": "084709df"
    },
    {
      "cell_type": "code",
      "source": "Total_transactions = len(creditcard)\nnormal = len(creditcard[creditcard.Class == 0])\nfraudulent = len(creditcard[creditcard.Class == 1])\nfraud_percentage = round(fraudulent/normal*100, 2)\nprint(cl('Total number of Trnsactions are {}'.format(Total_transactions), attrs = ['bold']))\nprint(cl('Number of Normal Transactions are {}'.format(normal), attrs = ['bold']))\nprint(cl('Number of fraudulent Transactions are {}'.format(fraudulent), attrs = ['bold']))\nprint(cl('Percentage of fraud Transactions is {}'.format(fraud_percentage), attrs = ['bold']))\n",
      "metadata": {},
      "execution_count": 6,
      "outputs": [
        {
          "name": "stdout",
          "output_type": "stream",
          "text": "Total number of Trnsactions are 284807\n\nNumber of Normal Transactions are 284315\n\nNumber of fraudulent Transactions are 492\n\nPercentage of fraud Transactions is 0.17\n"
        }
      ],
      "id": "51630729"
    },
    {
      "cell_type": "code",
      "source": "creditcard.info()",
      "metadata": {},
      "execution_count": 7,
      "outputs": [
        {
          "name": "stdout",
          "output_type": "stream",
          "text": "<class 'pandas.core.frame.DataFrame'>\n\nRangeIndex: 284807 entries, 0 to 284806\n\nData columns (total 31 columns):\n\n #   Column  Non-Null Count   Dtype  \n\n---  ------  --------------   -----  \n\n 0   Time    284807 non-null  float64\n\n 1   V1      284807 non-null  float64\n\n 2   V2      284807 non-null  float64\n\n 3   V3      284807 non-null  float64\n\n 4   V4      284807 non-null  float64\n\n 5   V5      284807 non-null  float64\n\n 6   V6      284807 non-null  float64\n\n 7   V7      284807 non-null  float64\n\n 8   V8      284807 non-null  float64\n\n 9   V9      284807 non-null  float64\n\n 10  V10     284807 non-null  float64\n\n 11  V11     284807 non-null  float64\n\n 12  V12     284807 non-null  float64\n\n 13  V13     284807 non-null  float64\n\n 14  V14     284807 non-null  float64\n\n 15  V15     284807 non-null  float64\n\n 16  V16     284807 non-null  float64\n\n 17  V17     284807 non-null  float64\n\n 18  V18     284807 non-null  float64\n\n 19  V19     284807 non-null  float64\n\n 20  V20     284807 non-null  float64\n\n 21  V21     284807 non-null  float64\n\n 22  V22     284807 non-null  float64\n\n 23  V23     284807 non-null  float64\n\n 24  V24     284807 non-null  float64\n\n 25  V25     284807 non-null  float64\n\n 26  V26     284807 non-null  float64\n\n 27  V27     284807 non-null  float64\n\n 28  V28     284807 non-null  float64\n\n 29  Amount  284807 non-null  float64\n\n 30  Class   284807 non-null  int64  \n\ndtypes: float64(30), int64(1)\n\nmemory usage: 67.4 MB\n"
        }
      ],
      "id": "e280d7a2"
    },
    {
      "cell_type": "code",
      "source": "min(creditcard.Amount),max(creditcard.Amount)",
      "metadata": {},
      "execution_count": 8,
      "outputs": [
        {
          "execution_count": 8,
          "output_type": "execute_result",
          "data": {
            "text/plain": [
              "(0.0, 25691.16)"
            ]
          },
          "metadata": {}
        }
      ],
      "id": "2d776848"
    },
    {
      "cell_type": "code",
      "source": "sc = StandardScaler()\namount = creditcard['Amount'].values\ncreditcard['Amount'] = sc.fit_transform(amount.reshape(-1, 1))",
      "metadata": {},
      "execution_count": 9,
      "outputs": [],
      "id": "faed4eb8"
    },
    {
      "cell_type": "code",
      "source": "creditcard.drop(['Time'], axis=1, inplace=True)",
      "metadata": {},
      "execution_count": 10,
      "outputs": [],
      "id": "2ffa8176"
    },
    {
      "cell_type": "code",
      "source": "creditcard.shape",
      "metadata": {},
      "execution_count": 11,
      "outputs": [
        {
          "execution_count": 11,
          "output_type": "execute_result",
          "data": {
            "text/plain": [
              "(284807, 30)"
            ]
          },
          "metadata": {}
        }
      ],
      "id": "7734620b"
    },
    {
      "cell_type": "code",
      "source": "creditcard.drop_duplicates(inplace=True)",
      "metadata": {},
      "execution_count": 12,
      "outputs": [],
      "id": "d1195034"
    },
    {
      "cell_type": "code",
      "source": "creditcard.shape",
      "metadata": {},
      "execution_count": 13,
      "outputs": [
        {
          "execution_count": 13,
          "output_type": "execute_result",
          "data": {
            "text/plain": [
              "(275663, 30)"
            ]
          },
          "metadata": {}
        }
      ],
      "id": "7ecf8187"
    },
    {
      "cell_type": "code",
      "source": "# split our train and test data\nX = creditcard.drop('Class', axis = 1).values\ny = creditcard['Class'].values",
      "metadata": {},
      "execution_count": 14,
      "outputs": [],
      "id": "e36462a0"
    },
    {
      "cell_type": "code",
      "source": "X_train, X_test, y_train, y_test = train_test_split(X, y, test_size = 0.25, random_state = 1)",
      "metadata": {},
      "execution_count": 15,
      "outputs": [],
      "id": "c55070e8"
    },
    {
      "cell_type": "code",
      "source": "n = 7\nKNN = KNeighborsClassifier(n_neighbors = n)\nKNN.fit(X_train, y_train)\nknn_yhat = KNN.predict(X_test)",
      "metadata": {},
      "execution_count": 16,
      "outputs": [],
      "id": "13b7f56e"
    },
    {
      "cell_type": "code",
      "source": "print('Accuracy score of the K-Nearest Neighbors model is {}'.format(accuracy_score(y_test, knn_yhat)))",
      "metadata": {},
      "execution_count": 17,
      "outputs": [
        {
          "name": "stdout",
          "output_type": "stream",
          "text": "Accuracy score of the K-Nearest Neighbors model is 0.999288989494457\n"
        }
      ],
      "id": "57fe0086"
    },
    {
      "cell_type": "code",
      "source": "print('F1 score of the K-Nearest Neighbors model is {}'.format(f1_score(y_test, knn_yhat)))",
      "metadata": {},
      "execution_count": 18,
      "outputs": [
        {
          "name": "stdout",
          "output_type": "stream",
          "text": "F1 score of the K-Nearest Neighbors model is 0.7949790794979079\n"
        }
      ],
      "id": "c2193293"
    },
    {
      "cell_type": "code",
      "source": "",
      "metadata": {},
      "execution_count": null,
      "outputs": [],
      "id": "4ae89195"
    }
  ]
}